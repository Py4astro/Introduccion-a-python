{
 "cells": [
  {
   "cell_type": "markdown",
   "metadata": {},
   "source": [
    "# <font color='Teal'>COLECCIONES ($\\sim$ 15 min)\n",
    "</font>\n"
   ]
  },
  {
   "cell_type": "markdown",
   "metadata": {},
   "source": [
    "Dentro de  minutos serás capaz de: \n",
    "\n",
    "- Conocer y manipular lo que son las listas.\n",
    "- Conocer y manipular lo que son las tuplas.\n",
    "- Conocer y manipular lo que son los diccionarios."
   ]
  },
  {
   "cell_type": "markdown",
   "metadata": {},
   "source": [
    "Dentro de  minutos serás capaz de: \n",
    "\n"
   ]
  },
  {
   "cell_type": "markdown",
   "metadata": {},
   "source": [
    "# <font color='SaddleBrown'>Listas\n",
    "</font>\n",
    "\n",
    "Las listas son un conjunto ordenado de datos. Se crean con `[]` y pueden contener cualquier tipo de datos. Se pueden indexar y modificar. \n",
    "\n"
   ]
  },
  {
   "cell_type": "markdown",
   "metadata": {},
   "source": [
    "1. Cuál es el resultado de este código?\n",
    "\n",
    "    nums = [5,4,3,2,1]\n",
    "    print(nums[1])\n",
    "  "
   ]
  },
  {
   "cell_type": "code",
   "execution_count": null,
   "metadata": {},
   "outputs": [],
   "source": []
  },
  {
   "cell_type": "markdown",
   "metadata": {},
   "source": [
    "2. Crea una lista llamada *planetas_int* que contenga los **planetas interiores** del sistema solar sin agregar."
   ]
  },
  {
   "cell_type": "code",
   "execution_count": null,
   "metadata": {},
   "outputs": [],
   "source": []
  },
  {
   "cell_type": "markdown",
   "metadata": {},
   "source": [
    "3. Crea una lista llamada *planetas_ga* que contenga a los **planetas gaseosos** del sistema solar. "
   ]
  },
  {
   "cell_type": "code",
   "execution_count": null,
   "metadata": {},
   "outputs": [],
   "source": []
  },
  {
   "cell_type": "markdown",
   "metadata": {},
   "source": [
    "4. Ahora crea una lista llamada *planetas* uniendo las dos listas anteriores (recuerda la operación `+`) \n"
   ]
  },
  {
   "cell_type": "code",
   "execution_count": null,
   "metadata": {},
   "outputs": [],
   "source": []
  },
  {
   "cell_type": "markdown",
   "metadata": {},
   "source": [
    "5. Ahora que tienes tu lista *planetas* con todos los planetas del sistema solar, remontate antes del año 2006 y agrega al querido **pluton** a tu lista. (recuerda el método `append`) "
   ]
  },
  {
   "cell_type": "code",
   "execution_count": null,
   "metadata": {},
   "outputs": [],
   "source": []
  },
  {
   "cell_type": "markdown",
   "metadata": {},
   "source": [
    "### <font color='SeaGreen'>Listas son mutables\n",
    "</font>"
   ]
  },
  {
   "cell_type": "markdown",
   "metadata": {},
   "source": [
    "6. Imaginemos que el Sol se convierte en una gigante roja. Sin embargo la humanidad ha logrado salir y expandirse a través del espacio. **Elimina a mercurio, venus y ... la tierra** de tu lista `planetas`\n",
    "\n"
   ]
  },
  {
   "cell_type": "code",
   "execution_count": null,
   "metadata": {},
   "outputs": [],
   "source": []
  },
  {
   "cell_type": "markdown",
   "metadata": {},
   "source": [
    "### <font color='SeaGreen'>Particionado o slicing \n",
    "</font>"
   ]
  },
  {
   "cell_type": "markdown",
   "metadata": {},
   "source": [
    "7. Crea una lista llamada `galaxias` que contenga tu 5 galaxias favoritas. "
   ]
  },
  {
   "cell_type": "code",
   "execution_count": null,
   "metadata": {},
   "outputs": [],
   "source": []
  },
  {
   "cell_type": "markdown",
   "metadata": {},
   "source": [
    "8. Usando `galaxias[]` muestra las galaxias cuyas posiciones van desde la segunda, hasta la 4. \n",
    "\n"
   ]
  },
  {
   "cell_type": "code",
   "execution_count": null,
   "metadata": {},
   "outputs": [],
   "source": []
  },
  {
   "cell_type": "markdown",
   "metadata": {},
   "source": [
    "Ahora muestra el la última galaxia almacenada en tu lista"
   ]
  },
  {
   "cell_type": "code",
   "execution_count": null,
   "metadata": {},
   "outputs": [],
   "source": []
  },
  {
   "cell_type": "markdown",
   "metadata": {},
   "source": [
    "<div class=\"alert alert-info\">\n",
    "**TIP:** Recuerda que en Python, la indexación comienza con 0\n",
    "</div>\n",
    "\n"
   ]
  },
  {
   "cell_type": "markdown",
   "metadata": {},
   "source": [
    "<div style=\"background-color: palevioletred; color: white; padding: 10px;\">\n",
    "**RECUERDA:** Puedes buscar en internet más funciones para las listas. Éstas son las más útiles: \n",
    "\n",
    "-**len(lista)**: Devuelve el tamaño de la lista (canditad de elementos).\n",
    "-**max(lista)**: Devuelve el elemento con el máximo valor.    -**min(lista)**: Devuelve el elemento con el mínimo valor.\n",
    "-lista.**append**: agrega un elemento al final.\n",
    "-lista.**remove**(obj): Elimina un objeto de una lista.\n",
    "-lista.**reverse()**: Invierte los elementos de una lista.\n",
    "-lista.**count(obj)**: Devuelve un conteo de cuántas veces un elementos está en tu lista.\n",
    "</div>"
   ]
  },
  {
   "cell_type": "markdown",
   "metadata": {},
   "source": [
    "\n"
   ]
  },
  {
   "cell_type": "markdown",
   "metadata": {},
   "source": [
    "# <font color='SaddleBrown'>Tuplas\n",
    "</font>\n",
    "\n",
    "Las tuplas son otro conjunto ordenado de datos. Se crean con `()` y pueden contener cualquier tipo de datos. Se pueden indexar y pero **no modificar**. \n"
   ]
  },
  {
   "cell_type": "markdown",
   "metadata": {},
   "source": [
    "Realiza los mismos ejercicios 2), 3), 4) usando las tuplas."
   ]
  },
  {
   "cell_type": "code",
   "execution_count": null,
   "metadata": {},
   "outputs": [],
   "source": []
  },
  {
   "cell_type": "code",
   "execution_count": null,
   "metadata": {},
   "outputs": [],
   "source": []
  },
  {
   "cell_type": "code",
   "execution_count": null,
   "metadata": {},
   "outputs": [],
   "source": []
  },
  {
   "cell_type": "markdown",
   "metadata": {},
   "source": [
    "Es posible realizar los ejercicios 5) y 6) con tuplas? Explica el por qué. \n"
   ]
  },
  {
   "cell_type": "code",
   "execution_count": 1,
   "metadata": {},
   "outputs": [],
   "source": [
    "#marca esta cerla como markdown y escribe tu respuesta. \n"
   ]
  },
  {
   "cell_type": "markdown",
   "metadata": {},
   "source": [
    "<div class=\"alert alert-info\">\n",
    "**TIP:** Recuerda que las tuplas son inmutables.\n",
    "</div>"
   ]
  },
  {
   "cell_type": "markdown",
   "metadata": {},
   "source": [
    "# <font color='SaddleBrown'>Diccionarios\n",
    "</font>\n",
    "\n"
   ]
  },
  {
   "cell_type": "markdown",
   "metadata": {},
   "source": [
    "Los diccionarios son estructuras de datos que relaciona una **clave** con un **valor**. Sigue la siguiente estructura: (te recomiendo que la sigas como sigue, para mayor claridad)\n",
    "\n",
    "```{python}\n",
    "dic = {\n",
    "clave1:valor1,\n",
    "clave2:valor2\n",
    "}\n",
    "``` "
   ]
  },
  {
   "cell_type": "markdown",
   "metadata": {},
   "source": [
    "1. Considera los siguientes datos:\n",
    "\n",
    "        Nombre              Magnitud\n",
    "        47_tucanae             5.8\n",
    "        Andromeda              4.3\n",
    "        NGC_869                5.7\n",
    "        NGC_884                6.6 \n",
    "\n",
    "Crea un diccionario que tenga como clave los nombres, y como valor, sus magnitudes. "
   ]
  },
  {
   "cell_type": "code",
   "execution_count": null,
   "metadata": {},
   "outputs": [],
   "source": []
  },
  {
   "cell_type": "markdown",
   "metadata": {},
   "source": [
    "2. Accede a la magnitud de `Andromeda` usando el diccionario creado."
   ]
  },
  {
   "cell_type": "code",
   "execution_count": null,
   "metadata": {},
   "outputs": [],
   "source": []
  },
  {
   "cell_type": "markdown",
   "metadata": {},
   "source": [
    "<div class=\"alert alert-info\">\n",
    "**TIP**: Para saber si una clave está en un diccionario puedes usar **in** y **not in**. Python devolverá **True** o **False** \n",
    "</div>"
   ]
  },
  {
   "cell_type": "markdown",
   "metadata": {},
   "source": [
    "3. ¿Está NGC 8 en tu diccionario? (debes teclar NGC_8 **in** diccionario)"
   ]
  },
  {
   "cell_type": "code",
   "execution_count": null,
   "metadata": {},
   "outputs": [],
   "source": []
  },
  {
   "cell_type": "markdown",
   "metadata": {},
   "source": [
    "4. ¿Está 47_tucanae en tu diccionario? "
   ]
  },
  {
   "cell_type": "code",
   "execution_count": null,
   "metadata": {},
   "outputs": [],
   "source": []
  },
  {
   "cell_type": "code",
   "execution_count": null,
   "metadata": {},
   "outputs": [],
   "source": []
  }
 ],
 "metadata": {
  "kernelspec": {
   "display_name": "Python [conda env:anaconda2]",
   "language": "python",
   "name": "conda-env-anaconda2-py"
  },
  "language_info": {
   "codemirror_mode": {
    "name": "ipython",
    "version": 2
   },
   "file_extension": ".py",
   "mimetype": "text/x-python",
   "name": "python",
   "nbconvert_exporter": "python",
   "pygments_lexer": "ipython2",
   "version": "2.7.15"
  }
 },
 "nbformat": 4,
 "nbformat_minor": 2
}
